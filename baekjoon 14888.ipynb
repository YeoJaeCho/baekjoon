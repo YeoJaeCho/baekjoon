{
 "cells": [
  {
   "cell_type": "markdown",
   "id": "dfdf4aaa",
   "metadata": {},
   "source": [
    "# 연산자 끼워넣기"
   ]
  },
  {
   "cell_type": "markdown",
   "id": "a67d3eec",
   "metadata": {},
   "source": [
    "## 문제\n",
    "N개의 수로 이루어진 수열 A1, A2, ..., AN이 주어진다. 또, 수와 수 사이에 끼워넣을 수 있는 N-1개의 연산자가 주어진다. 연산자는 덧셈(+), 뺄셈(-), 곱셈(×), 나눗셈(÷)으로만 이루어져 있다.\n",
    "\n",
    "우리는 수와 수 사이에 연산자를 하나씩 넣어서, 수식을 하나 만들 수 있다. 이때, 주어진 수의 순서를 바꾸면 안 된다.\n",
    "\n",
    "예를 들어, 6개의 수로 이루어진 수열이 1, 2, 3, 4, 5, 6이고, 주어진 연산자가 덧셈(+) 2개, 뺄셈(-) 1개, 곱셈(×) 1개, 나눗셈(÷) 1개인 경우에는 총 60가지의 식을 만들 수 있다. 예를 들어, 아래와 같은 식을 만들 수 있다.\n",
    "\n",
    "- 1+2+3-4×5÷6\n",
    "- 1÷2+3+4-5×6\n",
    "- 1+2÷3×4-5+6\n",
    "- 1÷2×3-4+5+6\n",
    "\n",
    "식의 계산은 연산자 우선 순위를 무시하고 앞에서부터 진행해야 한다. 또, 나눗셈은 정수 나눗셈으로 몫만 취한다. 음수를 양수로 나눌 때는 C++14의 기준을 따른다. 즉, 양수로 바꾼 뒤 몫을 취하고, 그 몫을 음수로 바꾼 것과 같다. 이에 따라서, 위의 식 4개의 결과를 계산해보면 아래와 같다.\n",
    "\n",
    "- 1+2+3-4×5÷6 = 1\n",
    "- 1÷2+3+4-5×6 = 12\n",
    "- 1+2÷3×4-5+6 = 5\n",
    "- 1÷2×3-4+5+6 = 7\n",
    "\n",
    "N개의 수와 N-1개의 연산자가 주어졌을 때, 만들 수 있는 식의 결과가 최대인 것과 최소인 것을 구하는 프로그램을 작성하시오."
   ]
  },
  {
   "cell_type": "markdown",
   "id": "57e3514e",
   "metadata": {},
   "source": [
    "## 입력\n",
    "첫째 줄에 수의 개수 N(2 ≤ N ≤ 11)가 주어진다. 둘째 줄에는 A1, A2, ..., AN이 주어진다. (1 ≤ Ai ≤ 100) 셋째 줄에는 합이 N-1인 4개의 정수가 주어지는데, 차례대로 덧셈(+)의 개수, 뺄셈(-)의 개수, 곱셈(×)의 개수, 나눗셈(÷)의 개수이다. "
   ]
  },
  {
   "cell_type": "markdown",
   "id": "d55edede",
   "metadata": {},
   "source": [
    "## 출력\n",
    "첫째 줄에 만들 수 있는 식의 결과의 최댓값을, 둘째 줄에는 최솟값을 출력한다. 연산자를 어떻게 끼워넣어도 항상 -10억보다 크거나 같고, 10억보다 작거나 같은 결과가 나오는 입력만 주어진다. 또한, 앞에서부터 계산했을 때, 중간에 계산되는 식의 결과도 항상 -10억보다 크거나 같고, 10억보다 작거나 같다."
   ]
  },
  {
   "cell_type": "code",
   "execution_count": 1,
   "id": "5b68df40",
   "metadata": {},
   "outputs": [],
   "source": [
    "from itertools import permutations"
   ]
  },
  {
   "cell_type": "code",
   "execution_count": 2,
   "id": "1ec50557",
   "metadata": {},
   "outputs": [],
   "source": [
    "from collections import deque"
   ]
  },
  {
   "cell_type": "code",
   "execution_count": 3,
   "id": "8ef93ecd",
   "metadata": {},
   "outputs": [
    {
     "name": "stdout",
     "output_type": "stream",
     "text": [
      "6\n"
     ]
    }
   ],
   "source": [
    "n = int(input())"
   ]
  },
  {
   "cell_type": "code",
   "execution_count": 4,
   "id": "b03dfa3f",
   "metadata": {},
   "outputs": [
    {
     "name": "stdout",
     "output_type": "stream",
     "text": [
      "1 2 3 4 5 6\n"
     ]
    }
   ],
   "source": [
    "nums = list(map(int, input().split()))"
   ]
  },
  {
   "cell_type": "code",
   "execution_count": 5,
   "id": "4d378bef",
   "metadata": {},
   "outputs": [
    {
     "name": "stdout",
     "output_type": "stream",
     "text": [
      "2 1 1 1\n"
     ]
    }
   ],
   "source": [
    "sign_num = list(map(int, input().split()))\n",
    "plus = sign_num[0]\n",
    "minus = sign_num[1]\n",
    "multi = sign_num[2]\n",
    "divi = sign_num[3]"
   ]
  },
  {
   "cell_type": "code",
   "execution_count": 6,
   "id": "5b7ab9c9",
   "metadata": {},
   "outputs": [
    {
     "data": {
      "text/plain": [
       "['+', '+', '-', '*', '//']"
      ]
     },
     "execution_count": 6,
     "metadata": {},
     "output_type": "execute_result"
    }
   ],
   "source": [
    "sign_list = []\n",
    "if plus > 0:\n",
    "    for i in range(plus):\n",
    "        sign_list.append('+')\n",
    "if minus > 0:\n",
    "    for i in range(minus):\n",
    "        sign_list.append('-')\n",
    "if multi > 0:\n",
    "    for i in range(multi):\n",
    "        sign_list.append('*')\n",
    "if divi > 0:\n",
    "    for i in range(divi):\n",
    "        sign_list.append('//')\n",
    "sign_list"
   ]
  },
  {
   "cell_type": "code",
   "execution_count": 7,
   "id": "2eb7adeb",
   "metadata": {
    "collapsed": true
   },
   "outputs": [
    {
     "data": {
      "text/plain": [
       "[('+', '*', '+', '-', '//'),\n",
       " ('//', '-', '*', '+', '+'),\n",
       " ('+', '*', '-', '//', '+'),\n",
       " ('-', '//', '*', '+', '+'),\n",
       " ('*', '+', '+', '-', '//'),\n",
       " ('*', '+', '+', '//', '-'),\n",
       " ('*', '+', '//', '-', '+'),\n",
       " ('+', '//', '*', '-', '+'),\n",
       " ('-', '*', '+', '//', '+'),\n",
       " ('*', '+', '-', '//', '+'),\n",
       " ('//', '+', '*', '+', '-'),\n",
       " ('*', '-', '+', '+', '//'),\n",
       " ('*', '//', '+', '-', '+'),\n",
       " ('-', '+', '//', '*', '+'),\n",
       " ('+', '*', '-', '+', '//'),\n",
       " ('-', '+', '*', '//', '+'),\n",
       " ('-', '+', '//', '+', '*'),\n",
       " ('-', '*', '+', '+', '//'),\n",
       " ('+', '//', '*', '+', '-'),\n",
       " ('*', '+', '-', '+', '//'),\n",
       " ('*', '+', '//', '+', '-'),\n",
       " ('+', '+', '-', '//', '*'),\n",
       " ('//', '*', '+', '-', '+'),\n",
       " ('+', '-', '*', '//', '+'),\n",
       " ('+', '-', '//', '*', '+'),\n",
       " ('-', '*', '//', '+', '+'),\n",
       " ('+', '*', '//', '-', '+'),\n",
       " ('*', '//', '+', '+', '-'),\n",
       " ('+', '//', '+', '-', '*'),\n",
       " ('+', '-', '//', '+', '*'),\n",
       " ('+', '+', '-', '*', '//'),\n",
       " ('*', '//', '-', '+', '+'),\n",
       " ('//', '*', '-', '+', '+'),\n",
       " ('+', '+', '*', '//', '-'),\n",
       " ('//', '*', '+', '+', '-'),\n",
       " ('//', '+', '+', '-', '*'),\n",
       " ('-', '+', '+', '//', '*'),\n",
       " ('//', '-', '+', '*', '+'),\n",
       " ('+', '//', '+', '*', '-'),\n",
       " ('+', '//', '-', '*', '+'),\n",
       " ('+', '//', '-', '+', '*'),\n",
       " ('+', '-', '*', '+', '//'),\n",
       " ('+', '*', '//', '+', '-'),\n",
       " ('-', '//', '+', '*', '+'),\n",
       " ('-', '+', '*', '+', '//'),\n",
       " ('+', '+', '*', '-', '//'),\n",
       " ('-', '+', '+', '*', '//'),\n",
       " ('//', '+', '+', '*', '-'),\n",
       " ('//', '+', '-', '*', '+'),\n",
       " ('*', '-', '//', '+', '+'),\n",
       " ('//', '-', '+', '+', '*'),\n",
       " ('+', '-', '+', '*', '//'),\n",
       " ('+', '+', '//', '-', '*'),\n",
       " ('+', '+', '//', '*', '-'),\n",
       " ('+', '-', '+', '//', '*'),\n",
       " ('-', '//', '+', '+', '*'),\n",
       " ('+', '*', '+', '//', '-'),\n",
       " ('//', '+', '-', '+', '*'),\n",
       " ('//', '+', '*', '-', '+'),\n",
       " ('*', '-', '+', '//', '+')]"
      ]
     },
     "execution_count": 7,
     "metadata": {},
     "output_type": "execute_result"
    }
   ],
   "source": [
    "sign_case = list(set(permutations(sign_list, len(sign_list))))  # set을 사용하여 중복되는 케이스를 제거\n",
    "sign_case"
   ]
  },
  {
   "cell_type": "code",
   "execution_count": 8,
   "id": "419ec3d8",
   "metadata": {},
   "outputs": [
    {
     "name": "stdout",
     "output_type": "stream",
     "text": [
      "54\n",
      "-24\n"
     ]
    }
   ],
   "source": [
    "cal_lists = deque(sign_case)\n",
    "\n",
    "final_max = -1000000000\n",
    "final_min = 1000000000\n",
    "\n",
    "while cal_lists:\n",
    "    cal_list = cal_lists.popleft()  # 연산자 조합 리스트 중 첫번째 연산자 조합을 이용\n",
    "    num = nums[0]\n",
    "    for i in range(len(cal_list)):\n",
    "        if cal_list[i] == '+':\n",
    "            num += nums[i + 1]\n",
    "        elif cal_list[i] == '-':\n",
    "            num -= nums[i + 1]\n",
    "        elif cal_list[i] == '*':\n",
    "            num *= nums[i + 1]\n",
    "        else:\n",
    "            if num < 0:\n",
    "                num = -(abs(num) // nums[i + 1])\n",
    "            else:\n",
    "                num = num // nums[i + 1]\n",
    "    final_max = max(final_max, num)\n",
    "    final_min = min(final_min, num)\n",
    "\n",
    "print(final_max)\n",
    "print(final_min)"
   ]
  }
 ],
 "metadata": {
  "kernelspec": {
   "display_name": "Python 3 (ipykernel)",
   "language": "python",
   "name": "python3"
  },
  "language_info": {
   "codemirror_mode": {
    "name": "ipython",
    "version": 3
   },
   "file_extension": ".py",
   "mimetype": "text/x-python",
   "name": "python",
   "nbconvert_exporter": "python",
   "pygments_lexer": "ipython3",
   "version": "3.9.12"
  }
 },
 "nbformat": 4,
 "nbformat_minor": 5
}
