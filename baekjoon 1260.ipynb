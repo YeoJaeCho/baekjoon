{
 "cells": [
  {
   "cell_type": "markdown",
   "id": "c50e77ef",
   "metadata": {},
   "source": [
    "# DFS와 BFS"
   ]
  },
  {
   "cell_type": "markdown",
   "id": "312863e5",
   "metadata": {},
   "source": [
    "## 문제\n",
    "그래프를 DFS로 탐색한 결과와 BFS로 탐색한 결과를 출력하는 프로그램을 작성하시오. 단, 방문할 수 있는 정점이 여러 개인 경우에는 정점 번호가 작은 것을 먼저 방문하고, 더 이상 방문할 수 있는 점이 없는 경우 종료한다. 정점 번호는 1번부터 N번까지이다."
   ]
  },
  {
   "cell_type": "markdown",
   "id": "bbb24c3d",
   "metadata": {},
   "source": [
    "## 입력\n",
    "첫째 줄에 정점의 개수 N(1 ≤ N ≤ 1,000), 간선의 개수 M(1 ≤ M ≤ 10,000), 탐색을 시작할 정점의 번호 V가 주어진다. 다음 M개의 줄에는 간선이 연결하는 두 정점의 번호가 주어진다. 어떤 두 정점 사이에 여러 개의 간선이 있을 수 있다. 입력으로 주어지는 간선은 양방향이다."
   ]
  },
  {
   "cell_type": "markdown",
   "id": "4b478d5e",
   "metadata": {},
   "source": [
    "## 출력\n",
    "첫째 줄에 DFS를 수행한 결과를, 그 다음 줄에는 BFS를 수행한 결과를 출력한다. V부터 방문된 점을 순서대로 출력하면 된다."
   ]
  },
  {
   "cell_type": "markdown",
   "id": "18ed1730",
   "metadata": {},
   "source": [
    "### 참고사항\n",
    "런타임 오류를 없애기 위해 아래 코드를 추가 (jupiter에서는 사용 불가능)\n",
    "\n",
    "    import sys\n",
    "    from collections import deque\n",
    "    input=sys.stdin.readline"
   ]
  },
  {
   "cell_type": "code",
   "execution_count": 3,
   "id": "92662d2c",
   "metadata": {},
   "outputs": [],
   "source": [
    "from collections import deque"
   ]
  },
  {
   "cell_type": "code",
   "execution_count": 4,
   "id": "18a90330",
   "metadata": {},
   "outputs": [
    {
     "name": "stdout",
     "output_type": "stream",
     "text": [
      "4 5 1\n"
     ]
    }
   ],
   "source": [
    "n, m, v = map(int, input().split())"
   ]
  },
  {
   "cell_type": "code",
   "execution_count": 5,
   "id": "e014eae0",
   "metadata": {},
   "outputs": [
    {
     "name": "stdout",
     "output_type": "stream",
     "text": [
      "1 2\n",
      "1 3\n",
      "1 4\n",
      "2 4\n",
      "3 4\n",
      "1 2 4 3 \n",
      "1 2 3 4 "
     ]
    }
   ],
   "source": [
    "tree = [[] for i in range(n+1)]\n",
    "\n",
    "for i in range(m):\n",
    "    x, y = map(int, input().split())\n",
    "    tree[x].append(y)\n",
    "    tree[y].append(x)\n",
    "    \n",
    "for i in range(len(tree)):\n",
    "    tree[i].sort()\n",
    "\n",
    "def dfs(start):\n",
    "    print(start, end = ' ')\n",
    "    visited[start] = True\n",
    "    for i in tree[start]:\n",
    "        if visited[i] == True:\n",
    "            continue\n",
    "        else:\n",
    "            visited[i] = True\n",
    "            dfs(i)\n",
    "\n",
    "def bfs(start):\n",
    "    q = deque([start])\n",
    "    visited[start] = True\n",
    "    while q:\n",
    "        now = q.popleft()\n",
    "        print(now, end = ' ')\n",
    "        for i in tree[now]:\n",
    "            if visited[i] == True:\n",
    "                continue\n",
    "            else:\n",
    "                q.append(i)\n",
    "                visited[i] = True\n",
    "                \n",
    "visited = [False] * (n+1)            \n",
    "dfs(v)\n",
    "print()\n",
    "visited = [False] * (n+1)            \n",
    "bfs(v)"
   ]
  }
 ],
 "metadata": {
  "kernelspec": {
   "display_name": "Python 3 (ipykernel)",
   "language": "python",
   "name": "python3"
  },
  "language_info": {
   "codemirror_mode": {
    "name": "ipython",
    "version": 3
   },
   "file_extension": ".py",
   "mimetype": "text/x-python",
   "name": "python",
   "nbconvert_exporter": "python",
   "pygments_lexer": "ipython3",
   "version": "3.9.12"
  }
 },
 "nbformat": 4,
 "nbformat_minor": 5
}
