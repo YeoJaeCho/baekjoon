{
 "cells": [
  {
   "cell_type": "markdown",
   "id": "da895a87",
   "metadata": {},
   "source": [
    "# 미로 탐색"
   ]
  },
  {
   "cell_type": "markdown",
   "id": "16152b13",
   "metadata": {},
   "source": [
    "## 문제\n",
    "N×M크기의 배열로 표현되는 미로가 있다.\n",
    "\n",
    "    1\t0\t1\t1\t1\t1\n",
    "    1\t0\t1\t0\t1\t0\n",
    "    1\t0\t1\t0\t1\t1\n",
    "    1\t1\t1\t0\t1\t1\n",
    "미로에서 1은 이동할 수 있는 칸을 나타내고, 0은 이동할 수 없는 칸을 나타낸다. 이러한 미로가 주어졌을 때, (1, 1)에서 출발하여 (N, M)의 위치로 이동할 때 지나야 하는 최소의 칸 수를 구하는 프로그램을 작성하시오. 한 칸에서 다른 칸으로 이동할 때, 서로 인접한 칸으로만 이동할 수 있다.\n",
    "\n",
    "위의 예에서는 15칸을 지나야 (N, M)의 위치로 이동할 수 있다. 칸을 셀 때에는 시작 위치와 도착 위치도 포함한다."
   ]
  },
  {
   "cell_type": "markdown",
   "id": "023df8d1",
   "metadata": {},
   "source": [
    "## 입력\n",
    "첫째 줄에 두 정수 N, M(2 ≤ N, M ≤ 100)이 주어진다. 다음 N개의 줄에는 M개의 정수로 미로가 주어진다. 각각의 수들은 붙어서 입력으로 주어진다."
   ]
  },
  {
   "cell_type": "markdown",
   "id": "f380ee65",
   "metadata": {},
   "source": [
    "## 출력\n",
    "첫째 줄에 지나야 하는 최소의 칸 수를 출력한다. 항상 도착위치로 이동할 수 있는 경우만 입력으로 주어진다."
   ]
  },
  {
   "cell_type": "markdown",
   "id": "9eff369d",
   "metadata": {},
   "source": [
    "#### 방법1 (함수 정의 사용)"
   ]
  },
  {
   "cell_type": "code",
   "execution_count": 64,
   "id": "8580e371",
   "metadata": {},
   "outputs": [
    {
     "name": "stdout",
     "output_type": "stream",
     "text": [
      "4 6\n",
      "101111\n",
      "101010\n",
      "101011\n",
      "111011\n"
     ]
    },
    {
     "data": {
      "text/plain": [
       "15"
      ]
     },
     "execution_count": 64,
     "metadata": {},
     "output_type": "execute_result"
    }
   ],
   "source": [
    "from collections import deque\n",
    "\n",
    "n, m = map(int, input().split())\n",
    "\n",
    "maze = []\n",
    "\n",
    "for i in range(n):\n",
    "    maze.append(list(map(int, input())))\n",
    "\n",
    "maze\n",
    "\n",
    "row4 = [-1, 1, 0 , 0]  # 상, 하, 좌, 우 방향 이동 시 바뀔 값\n",
    "col4 = [0, 0, -1, 1]\n",
    "\n",
    "def bfs(row, col):\n",
    "    \n",
    "    q = deque()\n",
    "    q.append((row, col))\n",
    "    \n",
    "    while q:\n",
    "        row, col = q.popleft()\n",
    "        \n",
    "        for i in range(4):\n",
    "            next_row = row + row4[i]\n",
    "            next_col = col + col4[i]\n",
    "            \n",
    "            if next_row < 0 or next_row >= n or next_col < 0 or next_col >= m:\n",
    "                continue  # 미로의 크기를 벗어나면 안됨\n",
    "            \n",
    "            if maze[next_row][next_col] == 0:\n",
    "                continue  # 길이 벗어나면 안됨\n",
    "            \n",
    "            if maze[next_row][next_col] == 1:\n",
    "                maze[next_row][next_col] = maze[row][col] + 1\n",
    "                q.append((next_row, next_col))\n",
    "    \n",
    "    return maze[n - 1][m - 1]\n",
    "\n",
    "\n",
    "bfs(0, 0)            "
   ]
  },
  {
   "cell_type": "markdown",
   "id": "7efb0388",
   "metadata": {},
   "source": [
    "#### 방법 2"
   ]
  },
  {
   "cell_type": "code",
   "execution_count": 61,
   "id": "d8db2a37",
   "metadata": {},
   "outputs": [
    {
     "name": "stdout",
     "output_type": "stream",
     "text": [
      "4 6\n",
      "101111\n",
      "101010\n",
      "101011\n",
      "111011\n",
      "15\n"
     ]
    }
   ],
   "source": [
    "from collections import deque\n",
    "\n",
    "n, m = map(int, input().split())\n",
    "\n",
    "maze = []\n",
    "\n",
    "for i in range(n):\n",
    "    maze.append(list(map(int, input())))\n",
    "\n",
    "row4 = [-1, 1, 0 , 0]  # 상, 하, 좌, 우 방향 이동 시 바뀔 값\n",
    "col4 = [0, 0, -1, 1]\n",
    "\n",
    "q = deque()\n",
    "q.append((0, 0))\n",
    "\n",
    "\n",
    "while q:\n",
    "    \n",
    "    row, col = q.popleft()\n",
    "    \n",
    "    for i in range(4):\n",
    "        next_row = row + row4[i]\n",
    "        next_col = col + col4[i]\n",
    "            \n",
    "        if next_row < 0 or next_row >= n or next_col < 0 or next_col >= m:  # 미로의 크기를 벗어나면 안됨\n",
    "            continue\n",
    "        else:\n",
    "            if maze[next_row][next_col] == 0:  # 길이 벗어나면 안됨\n",
    "                continue\n",
    "            else:\n",
    "                if maze[next_row][next_col] == 1:\n",
    "                    maze[next_row][next_col] = maze[row][col] + 1\n",
    "                    q.append((next_row, next_col))\n",
    "\n",
    "print(maze[n-1][m-1])"
   ]
  }
 ],
 "metadata": {
  "kernelspec": {
   "display_name": "Python 3 (ipykernel)",
   "language": "python",
   "name": "python3"
  },
  "language_info": {
   "codemirror_mode": {
    "name": "ipython",
    "version": 3
   },
   "file_extension": ".py",
   "mimetype": "text/x-python",
   "name": "python",
   "nbconvert_exporter": "python",
   "pygments_lexer": "ipython3",
   "version": "3.9.12"
  }
 },
 "nbformat": 4,
 "nbformat_minor": 5
}
