{
 "cells": [
  {
   "cell_type": "markdown",
   "id": "553d4c0a",
   "metadata": {},
   "source": [
    "# 트리의 부모 찾기"
   ]
  },
  {
   "cell_type": "markdown",
   "id": "6788954f",
   "metadata": {},
   "source": [
    "## 문제\n",
    "루트 없는 트리가 주어진다. 이때, 트리의 루트를 1이라고 정했을 때, 각 노드의 부모를 구하는 프로그램을 작성하시오."
   ]
  },
  {
   "cell_type": "markdown",
   "id": "32356425",
   "metadata": {},
   "source": [
    "## 입력\n",
    "첫째 줄에 노드의 개수 N (2 ≤ N ≤ 100,000)이 주어진다. 둘째 줄부터 N-1개의 줄에 트리 상에서 연결된 두 정점이 주어진다."
   ]
  },
  {
   "cell_type": "markdown",
   "id": "138e3b84",
   "metadata": {},
   "source": [
    "## 출력\n",
    "첫째 줄부터 N-1개의 줄에 각 노드의 부모 노드 번호를 2번 노드부터 순서대로 출력한다."
   ]
  },
  {
   "cell_type": "markdown",
   "id": "e0ae123f",
   "metadata": {},
   "source": [
    "### 예제 입력 1\n",
    "    7\n",
    "    1 6\n",
    "    6 3\n",
    "    3 5\n",
    "    4 1\n",
    "    2 4\n",
    "    4 7\n",
    "### 예제 출력 1\n",
    "    4\n",
    "    6\n",
    "    1\n",
    "    3\n",
    "    1\n",
    "    4"
   ]
  },
  {
   "cell_type": "markdown",
   "id": "e73c6177",
   "metadata": {},
   "source": [
    "#### 풀이1 (틀린풀이)"
   ]
  },
  {
   "cell_type": "code",
   "execution_count": 24,
   "id": "c618e1ab",
   "metadata": {},
   "outputs": [],
   "source": [
    "from collections import deque\n",
    "import numpy as np"
   ]
  },
  {
   "cell_type": "code",
   "execution_count": 20,
   "id": "60b11c89",
   "metadata": {},
   "outputs": [
    {
     "name": "stdout",
     "output_type": "stream",
     "text": [
      "12\n"
     ]
    }
   ],
   "source": [
    "n = int(input())"
   ]
  },
  {
   "cell_type": "code",
   "execution_count": 21,
   "id": "179a67e3",
   "metadata": {},
   "outputs": [
    {
     "data": {
      "text/plain": [
       "[[], [], [], [], [], [], [], [], [], [], [], [], []]"
      ]
     },
     "execution_count": 21,
     "metadata": {},
     "output_type": "execute_result"
    }
   ],
   "source": [
    "tree = [[] for i in range(n+1)]\n",
    "tree"
   ]
  },
  {
   "cell_type": "code",
   "execution_count": 22,
   "id": "e9917f7f",
   "metadata": {},
   "outputs": [
    {
     "name": "stdout",
     "output_type": "stream",
     "text": [
      "1 2\n",
      "1 3\n",
      "2 4\n",
      "3 5\n",
      "3 6\n",
      "4 7\n",
      "4 8\n",
      "5 9\n",
      "5 10\n",
      "6 11\n",
      "6 12\n"
     ]
    },
    {
     "data": {
      "text/plain": [
       "[[],\n",
       " [2, 3],\n",
       " [1, 4],\n",
       " [1, 5, 6],\n",
       " [2, 7, 8],\n",
       " [3, 9, 10],\n",
       " [3, 11, 12],\n",
       " [4],\n",
       " [4],\n",
       " [5],\n",
       " [5],\n",
       " [6],\n",
       " [6]]"
      ]
     },
     "execution_count": 22,
     "metadata": {},
     "output_type": "execute_result"
    }
   ],
   "source": [
    "for i in range(n-1):\n",
    "    x, y = map(int, input().split())\n",
    "    tree[x].append(y)\n",
    "    tree[y].append(x)\n",
    "\n",
    "tree"
   ]
  },
  {
   "cell_type": "code",
   "execution_count": 23,
   "id": "0c732b15",
   "metadata": {
    "scrolled": true
   },
   "outputs": [
    {
     "name": "stdout",
     "output_type": "stream",
     "text": [
      "1\n",
      "1\n",
      "2\n",
      "3\n",
      "3\n",
      "4\n",
      "4\n",
      "5\n",
      "5\n",
      "6\n",
      "6\n"
     ]
    }
   ],
   "source": [
    "for i in range(2, n + 1):\n",
    "    d_tree = deque(tree[i])\n",
    "    print(d_tree.popleft())"
   ]
  },
  {
   "cell_type": "markdown",
   "id": "2a220ea6",
   "metadata": {},
   "source": [
    "#### 풀이2 (맞는 풀이)\n",
    "코드는 맞지만 런타임에러가 발생 \n",
    "\n",
    "    import sys\n",
    "    input = sys.stdin.readline\n",
    "    sys.setrecursionlimit(10**6)\n",
    "\n",
    "해결법\n",
    "1. 위의 코드를 추가하여 런타임 오류 해결 (but 위의 코드는 jupiter에서는 돌아가지 않음)\n",
    "2. visited라는 list를 추가하여 이미 방문했던 숫자라면 다시 확인하지 않음"
   ]
  },
  {
   "cell_type": "code",
   "execution_count": 2,
   "id": "4cb0f259",
   "metadata": {},
   "outputs": [
    {
     "name": "stdout",
     "output_type": "stream",
     "text": [
      "12\n",
      "1 2\n",
      "1 3\n",
      "2 4\n",
      "3 5\n",
      "3 6\n",
      "4 7\n",
      "4 8\n",
      "5 9\n",
      "5 10\n",
      "6 11\n",
      "6 12\n",
      "1\n",
      "1\n",
      "2\n",
      "3\n",
      "3\n",
      "4\n",
      "4\n",
      "5\n",
      "5\n",
      "6\n",
      "6\n"
     ]
    }
   ],
   "source": [
    "n = int(input())\n",
    "\n",
    "tree = [[] for i in range(n+1)]\n",
    "node = [0] * (n+1)\n",
    "visited = [False] * (n+1)\n",
    "\n",
    "for i in range(n-1):\n",
    "    x, y = map(int, input().split())\n",
    "    tree[x].append(y)\n",
    "    tree[y].append(x)\n",
    "\n",
    "def dfs(start):\n",
    "    for i in tree[start]:\n",
    "        if visited[i] == True:\n",
    "            continue\n",
    "        else:\n",
    "            node[i] = start\n",
    "            visited[i] = True\n",
    "            dfs(i)\n",
    "\n",
    "visited[1] = True\n",
    "dfs(1)\n",
    "\n",
    "for i in range(2, n+1):\n",
    "    print(node[i])"
   ]
  }
 ],
 "metadata": {
  "kernelspec": {
   "display_name": "Python 3 (ipykernel)",
   "language": "python",
   "name": "python3"
  },
  "language_info": {
   "codemirror_mode": {
    "name": "ipython",
    "version": 3
   },
   "file_extension": ".py",
   "mimetype": "text/x-python",
   "name": "python",
   "nbconvert_exporter": "python",
   "pygments_lexer": "ipython3",
   "version": "3.9.12"
  }
 },
 "nbformat": 4,
 "nbformat_minor": 5
}
